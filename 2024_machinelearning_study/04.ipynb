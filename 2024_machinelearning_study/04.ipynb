{
 "cells": [
  {
   "cell_type": "markdown",
   "metadata": {},
   "source": [
    "### Numpy\n",
    "\n",
    "파이썬의 과학 계산용 패키지 <br>\n",
    "Matrix 와 Vector 와 같은 Array 연산의 사실상의 표준 <br><br>\n",
    "\n",
    "numpy 는 np.array 함수를 활용하여 배열을 생성 => ndarray <br>\n",
    "numpy는 하나의 data type 만 배열에 넣을 수 있음 (c의 array를 이용한 배열의 생성, C의 data type과 compatible) <br>\n",
    "python의 array에 비해서 속도가 빠르다는 장점 <br> <br>\n",
    "\n",
    "** shape : numpy array의 object의 dimension 구성을 반환함 <br>\n",
    "** dtype : numpy array의 데이터 type을 반환함 <br><br> \n",
    "\n",
    "** ndim : number of dimension <br> \n",
    "** size : data의 갯수 "
   ]
  },
  {
   "cell_type": "code",
   "execution_count": 1,
   "metadata": {},
   "outputs": [],
   "source": [
    "import numpy as np "
   ]
  },
  {
   "cell_type": "code",
   "execution_count": 16,
   "metadata": {},
   "outputs": [
    {
     "name": "stdout",
     "output_type": "stream",
     "text": [
      "[1. 4. 5. 8.]\n",
      "[1 4 5 8]\n"
     ]
    }
   ],
   "source": [
    "test_array = np.array([\"1\", \"4\", 5, 8], float)\n",
    "test_array02 = np.array([\"1\", \"4\", 5, 8], np.int32)\n",
    "# 특정 바이트 크기 지정해야되는 상황이면 np. 붙혀야된다. \n",
    "print (test_array)\n",
    "print (test_array02)"
   ]
  },
  {
   "cell_type": "markdown",
   "metadata": {},
   "source": [
    "일부는 문자열 타입, 일부는 정수타입으로 지정했으나 전부 float 으로 저장을 해라 했더니 다음과 같이 결과가 도출됨 "
   ]
  },
  {
   "cell_type": "code",
   "execution_count": 11,
   "metadata": {},
   "outputs": [
    {
     "name": "stdout",
     "output_type": "stream",
     "text": [
      "float64\n"
     ]
    }
   ],
   "source": [
    "print(test_array.dtype)  # Array(배열) 전체의 데이터 Type을 반환함"
   ]
  },
  {
   "cell_type": "code",
   "execution_count": 17,
   "metadata": {},
   "outputs": [
    {
     "data": {
      "text/plain": [
       "(4,)"
      ]
     },
     "execution_count": 17,
     "metadata": {},
     "output_type": "execute_result"
    }
   ],
   "source": [
    "test_array.shape  # Array(배열)의 shape을 반환함"
   ]
  },
  {
   "cell_type": "markdown",
   "metadata": {},
   "source": [
    "1차원 + 내장돼있는 벡터가 총 4개라는 뜻 <br>\n",
    "test_array 의 메트릭스 형태가 찍혀나옴 (shape 하면)<br>"
   ]
  },
  {
   "cell_type": "code",
   "execution_count": 18,
   "metadata": {},
   "outputs": [],
   "source": [
    "tensor = [\n",
    "    [[1, 2, 5, 8], [1, 2, 5, 8], [1, 2, 5, 8], [1, 2, 5, 8]],\n",
    "    [[1, 2, 5, 8], [1, 2, 5, 8], [1, 2, 5, 8], [1, 2, 5, 8]],\n",
    "    [[1, 2, 5, 8], [1, 2, 5, 8], [1, 2, 5, 8], [1, 2, 5, 8]],\n",
    "    [[1, 2, 5, 8], [1, 2, 5, 8], [1, 2, 5, 8], [1, 2, 5, 8]]\n",
    "] \n",
    "# 3차원 배열 "
   ]
  },
  {
   "cell_type": "code",
   "execution_count": 21,
   "metadata": {},
   "outputs": [
    {
     "data": {
      "text/plain": [
       "3"
      ]
     },
     "execution_count": 21,
     "metadata": {},
     "output_type": "execute_result"
    }
   ],
   "source": [
    "# 차원 수 확인\n",
    "num_dimensions = np.array(tensor, int).ndim\n",
    "num_dimensions"
   ]
  },
  {
   "cell_type": "code",
   "execution_count": 22,
   "metadata": {},
   "outputs": [
    {
     "data": {
      "text/plain": [
       "64"
      ]
     },
     "execution_count": 22,
     "metadata": {},
     "output_type": "execute_result"
    }
   ],
   "source": [
    "# 데이터 개수 확인\n",
    "size = np.array(tensor, int).size\n",
    "size"
   ]
  },
  {
   "cell_type": "code",
   "execution_count": 25,
   "metadata": {},
   "outputs": [
    {
     "data": {
      "text/plain": [
       "array([[1, 2, 3],\n",
       "       [4, 5, 6]])"
      ]
     },
     "execution_count": 25,
     "metadata": {},
     "output_type": "execute_result"
    }
   ],
   "source": [
    "# Data type을 integer로 선언\n",
    "arr_int = np.array([[1, 2, 3], [4.5, 5, 6]], dtype=int)\n",
    "arr_int"
   ]
  },
  {
   "cell_type": "code",
   "execution_count": 26,
   "metadata": {},
   "outputs": [
    {
     "data": {
      "text/plain": [
       "array([[1. , 2. , 3. ],\n",
       "       [4.5, 5. , 6. ]], dtype=float32)"
      ]
     },
     "execution_count": 26,
     "metadata": {},
     "output_type": "execute_result"
    }
   ],
   "source": [
    "arr_float = np.array([[1, 2, 3], [4.5, \"5\", \"6\"]], dtype=np.float32)\n",
    "arr_float"
   ]
  }
 ],
 "metadata": {
  "kernelspec": {
   "display_name": "Python 3",
   "language": "python",
   "name": "python3"
  },
  "language_info": {
   "codemirror_mode": {
    "name": "ipython",
    "version": 3
   },
   "file_extension": ".py",
   "mimetype": "text/x-python",
   "name": "python",
   "nbconvert_exporter": "python",
   "pygments_lexer": "ipython3",
   "version": "3.11.4"
  }
 },
 "nbformat": 4,
 "nbformat_minor": 2
}
