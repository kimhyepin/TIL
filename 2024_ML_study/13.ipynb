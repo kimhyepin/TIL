{
 "cells": [
  {
   "cell_type": "code",
   "execution_count": 1,
   "metadata": {},
   "outputs": [],
   "source": [
    "import numpy as np\n",
    "import pandas as pd "
   ]
  },
  {
   "cell_type": "code",
   "execution_count": 2,
   "metadata": {},
   "outputs": [
    {
     "name": "stdout",
     "output_type": "stream",
     "text": [
      "a    1\n",
      "b    2\n",
      "c    3\n",
      "d    4\n",
      "e    5\n",
      "dtype: int64\n",
      "b    5\n",
      "c    6\n",
      "d    7\n",
      "e    8\n",
      "f    9\n",
      "dtype: int64\n",
      "a     NaN\n",
      "b     7.0\n",
      "c     9.0\n",
      "d    11.0\n",
      "e    13.0\n",
      "f     NaN\n",
      "dtype: float64\n",
      "a     NaN\n",
      "b     7.0\n",
      "c     9.0\n",
      "d    11.0\n",
      "e    13.0\n",
      "f     NaN\n",
      "dtype: float64\n"
     ]
    }
   ],
   "source": [
    "\n",
    "# Series s1 생성: 인덱스는 'a', 'b', 'c', 'd', 'e'이고 값은 1에서 5까지\n",
    "s1 = pd.Series(range(1, 6), index=list(\"abcde\"))\n",
    "print(s1)\n",
    "\n",
    "# Series s2 생성: 인덱스는 'b', 'c', 'd', 'e', 'f'이고 값은 5에서 9까지\n",
    "s2 = pd.Series(range(5, 10), index=list(\"bcdef\"))\n",
    "print(s2)\n",
    "\n",
    "# s1과 s2를 더하기 (인덱스 기준으로 연산)\n",
    "result_add = s1.add(s2)\n",
    "print(result_add)\n",
    "\n",
    "# s1과 s2를 더하기 (연산자 사용, 위와 동일한 결과)\n",
    "result_add_operator = s1 + s2\n",
    "print(result_add_operator)\n",
    "\n",
    "## numpy 랑 같은데 numpy 같은 경우는 크기가 맞지 않으면 에러가 뜸\n",
    "## 시리즈는 그렇진 않고 그냥 NaN이 나옴 "
   ]
  },
  {
   "cell_type": "code",
   "execution_count": 4,
   "metadata": {},
   "outputs": [
    {
     "data": {
      "text/plain": [
       "a     1.0\n",
       "b     7.0\n",
       "c     9.0\n",
       "d    11.0\n",
       "e    13.0\n",
       "f     9.0\n",
       "dtype: float64"
      ]
     },
     "execution_count": 4,
     "metadata": {},
     "output_type": "execute_result"
    }
   ],
   "source": [
    "result_add_operator02 = s1.add(s2, fill_value=0)\n",
    "# Nan을 0으로 채워줄수도 있음 \n",
    "result_add_operator02"
   ]
  },
  {
   "cell_type": "code",
   "execution_count": 5,
   "metadata": {},
   "outputs": [
    {
     "name": "stdout",
     "output_type": "stream",
     "text": [
      "   a  b  c\n",
      "0  0  1  2\n",
      "1  3  4  5\n",
      "2  6  7  8\n",
      "    a   b   c   d\n",
      "0   0   1   2   3\n",
      "1   4   5   6   7\n",
      "2   8   9  10  11\n",
      "3  12  13  14  15\n",
      "      a     b     c   d\n",
      "0   0.0   2.0   4.0 NaN\n",
      "1   7.0   9.0  11.0 NaN\n",
      "2  14.0  16.0  18.0 NaN\n",
      "3   NaN   NaN   NaN NaN\n",
      "      a     b     c     d\n",
      "0   0.0   2.0   4.0   3.0\n",
      "1   7.0   9.0  11.0   7.0\n",
      "2  14.0  16.0  18.0  11.0\n",
      "3  12.0  13.0  14.0  15.0\n"
     ]
    }
   ],
   "source": [
    "# DataFrame df1 생성: 3x3 크기, 컬럼은 'a', 'b', 'c'\n",
    "df1 = pd.DataFrame(np.arange(9).reshape(3, 3), columns=list(\"abc\"))\n",
    "print(df1)\n",
    "\n",
    "# DataFrame df2 생성: 4x4 크기, 컬럼은 'a', 'b', 'c', 'd'\n",
    "df2 = pd.DataFrame(np.arange(16).reshape(4, 4), columns=list(\"abcd\"))\n",
    "print(df2)\n",
    "\n",
    "# df1과 df2의 연산: 동일한 인덱스와 컬럼끼리 더함, 일치하지 않는 부분은 NaN\n",
    "result = df1 + df2\n",
    "print(result)\n",
    "\n",
    "# NaN을 0으로 채워 연산 수행\n",
    "result_with_fill = df1.add(df2, fill_value=0)\n",
    "print(result_with_fill)"
   ]
  },
  {
   "cell_type": "code",
   "execution_count": 6,
   "metadata": {},
   "outputs": [
    {
     "name": "stdout",
     "output_type": "stream",
     "text": [
      "    a   b   c   d\n",
      "0   0   1   2   3\n",
      "1   4   5   6   7\n",
      "2   8   9  10  11\n",
      "3  12  13  14  15\n",
      "a    10\n",
      "b    11\n",
      "c    12\n",
      "d    13\n",
      "dtype: int32\n",
      "    a   b   c   d\n",
      "0  10  12  14  16\n",
      "1  14  16  18  20\n",
      "2  18  20  22  24\n",
      "3  22  24  26  28\n"
     ]
    }
   ],
   "source": [
    "# DataFrame df 생성: 4x4 크기, 컬럼은 'a', 'b', 'c', 'd'\n",
    "df = pd.DataFrame(np.arange(16).reshape(4, 4), columns=list(\"abcd\"))\n",
    "print(df)\n",
    "\n",
    "# Series s 생성: 인덱스는 'a', 'b', 'c', 'd', 값은 10부터 13까지\n",
    "s = pd.Series(np.arange(10, 14), index=list(\"abcd\"))\n",
    "print(s)\n",
    "\n",
    "# DataFrame df와 Series s의 연산: 각 컬럼에 Series 값을 더함\n",
    "result = df + s\n",
    "print(result)"
   ]
  },
  {
   "cell_type": "code",
   "execution_count": 7,
   "metadata": {},
   "outputs": [
    {
     "name": "stdout",
     "output_type": "stream",
     "text": [
      "    a   b   c   d\n",
      "0   0   1   2   3\n",
      "1   4   5   6   7\n",
      "2   8   9  10  11\n",
      "3  12  13  14  15\n",
      "0    10\n",
      "1    11\n",
      "2    12\n",
      "3    13\n",
      "dtype: int32\n",
      "    a   b   c   d   0   1   2   3\n",
      "0 NaN NaN NaN NaN NaN NaN NaN NaN\n",
      "1 NaN NaN NaN NaN NaN NaN NaN NaN\n",
      "2 NaN NaN NaN NaN NaN NaN NaN NaN\n",
      "3 NaN NaN NaN NaN NaN NaN NaN NaN\n",
      "    a   b   c   d\n",
      "0  10  11  12  13\n",
      "1  15  16  17  18\n",
      "2  20  21  22  23\n",
      "3  25  26  27  28\n"
     ]
    }
   ],
   "source": [
    "# DataFrame df 생성: 4x4 크기, 컬럼은 'a', 'b', 'c', 'd'\n",
    "df = pd.DataFrame(np.arange(16).reshape(4, 4), columns=list(\"abcd\"))\n",
    "print(df)\n",
    "\n",
    "# Series s2 생성: 값은 10부터 13까지\n",
    "s2 = pd.Series(np.arange(10, 14))\n",
    "print(s2)\n",
    "\n",
    "# 이 경우, s2에는 인덱스가 명시되지 않았으므로, Pandas는 기본적으로 Series의 인덱스(0, 1, 2, 3)가 DataFrame의 컬럼 이름('a', 'b', 'c', 'd')과 일치하는지 확인\n",
    "# 하지만 Series의 인덱스와 DataFrame의 컬럼이 일치하지 않기 때문에, 결과적으로 모든 값이 NaN이 된다. \n",
    "\n",
    "# DataFrame과 Series의 연산: df + s2\n",
    "result = df + s2\n",
    "print(result)\n",
    "\n",
    "# axis=0을 기준으로 Series를 DataFrame에 더하기\n",
    "result_with_axis = df.add(s2, axis=0)\n",
    "print(result_with_axis)\n"
   ]
  }
 ],
 "metadata": {
  "kernelspec": {
   "display_name": "base",
   "language": "python",
   "name": "python3"
  },
  "language_info": {
   "codemirror_mode": {
    "name": "ipython",
    "version": 3
   },
   "file_extension": ".py",
   "mimetype": "text/x-python",
   "name": "python",
   "nbconvert_exporter": "python",
   "pygments_lexer": "ipython3",
   "version": "3.11.7"
  }
 },
 "nbformat": 4,
 "nbformat_minor": 2
}
