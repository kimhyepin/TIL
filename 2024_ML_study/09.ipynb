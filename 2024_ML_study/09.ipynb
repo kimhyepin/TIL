{
 "cells": [
  {
   "cell_type": "markdown",
   "metadata": {},
   "source": [
    "** dtype vs astype <br>\n",
    "dtype은 **배열을 생성할 때**, 각 요소가 어떤 데이터 타입을 가질지를 dtype을 통해 지정할 수 있음. 반면 astype은 **이미 지정된 기존 배열의 데이터를 복사**하여, 원하는 데이터 타입으로 변환된 새로운 배열을 생성할 때 사용됨. \n",
    "\n",
    "### numpy - boolean & fancy index \n",
    "boolean index : numpy 배열은 특정 조건에 따른 값을 배열형태로 추출 할 수 있음 "
   ]
  },
  {
   "cell_type": "code",
   "execution_count": 1,
   "metadata": {},
   "outputs": [],
   "source": [
    "import numpy as np "
   ]
  },
  {
   "cell_type": "code",
   "execution_count": 5,
   "metadata": {},
   "outputs": [
    {
     "name": "stdout",
     "output_type": "stream",
     "text": [
      "test_array > 3:\n",
      "[False  True False False False  True  True  True]\n",
      "[0 1 0 0 0 1 1 1]\n",
      "\n",
      "test_array[test_array > 3]:\n",
      "[4. 8. 9. 7.]\n",
      "\n",
      "test_array < 3:\n",
      "[ True False  True  True False False False False]\n",
      "\n",
      "test_array[condition]:\n",
      "[1. 0. 2.]\n"
     ]
    }
   ],
   "source": [
    "# test_array 배열 생성\n",
    "test_array = np.array([1, 4, 0, 2, 3, 8, 9, 7], float)\n",
    "\n",
    "# test_array > 3 조건을 적용한 Boolean 배열 생성\n",
    "condition = test_array > 3\n",
    "print(\"test_array > 3:\")\n",
    "print(condition)  # 각 요소가 3보다 큰지 여부를 나타내는 Boolean 배열로 나옴!!!!!!!!!!!!!!!! \n",
    "print (condition.astype(np.int32)) # false 0 True 1 로 바꿔줌 \n",
    "\n",
    "# 조건이 True인 요소만 추출\n",
    "print(\"\\ntest_array[test_array > 3]:\")\n",
    "print(test_array[test_array > 3])  # 조건에 맞는 요소만 추출\n",
    "\n",
    "# test_array < 3 조건을 적용한 Boolean 배열 생성\n",
    "condition = test_array < 3\n",
    "print(\"\\ntest_array < 3:\")\n",
    "print(condition)  # 각 요소가 3보다 작은지 여부를 나타내는 Boolean 배열\n",
    "\n",
    "# 조건이 True인 요소만 추출\n",
    "print(\"\\ntest_array[condition]:\")\n",
    "print(test_array[condition])  # 조건 (3보다 작다) 에 맞는 요소만 추출\n"
   ]
  },
  {
   "cell_type": "code",
   "execution_count": 6,
   "metadata": {},
   "outputs": [
    {
     "name": "stdout",
     "output_type": "stream",
     "text": [
      "a[b]의 결과 (브라켓 인덱스):\n",
      "[2. 2. 8. 6.]\n",
      "\n",
      "a.take(b)의 결과 (take 함수):\n",
      "[2. 2. 8. 6.]\n"
     ]
    }
   ],
   "source": [
    "# 배열 a와 b 생성\n",
    "a = np.array([2, 4, 6, 8], float)\n",
    "b = np.array([0, 0, 3, 2], int)  # 반드시 정수형 인덱스 배열이어야 함\n",
    "\n",
    "# 브라켓 인덱스 방식으로 b의 값을 a의 인덱스로 사용하여 값 추출\n",
    "result_bracket = a[b]\n",
    "print(\"a[b]의 결과 (브라켓 인덱스):\")\n",
    "print(result_bracket)\n",
    "\n",
    "# Output:\n",
    "# array([2., 2., 8., 6.])\n",
    "\n",
    "# take 함수를 사용하여 b의 값을 인덱스로 사용하여 a의 값 추출\n",
    "result_take = a.take(b)\n",
    "print(\"\\na.take(b)의 결과 (take 함수):\")\n",
    "print(result_take)\n",
    "\n",
    "# Output:\n",
    "# array([2., 2., 8., 6.])\n"
   ]
  },
  {
   "cell_type": "code",
   "execution_count": 7,
   "metadata": {},
   "outputs": [
    {
     "name": "stdout",
     "output_type": "stream",
     "text": [
      "a[b, c]의 결과 (fancy indexing):\n",
      "[ 1. 16. 16.  4.]\n"
     ]
    }
   ],
   "source": [
    "## 응용편 (vector 뿐만 아니라 matrix 에서도 적용가능)\n",
    "\n",
    "# 2x2 행렬 a 생성\n",
    "a = np.array([[1, 4], [9, 16]], float)\n",
    "\n",
    "# 행 인덱스를 나타내는 배열 b 생성\n",
    "b = np.array([0, 1, 1, 0], int)  # row 인덱스\n",
    "\n",
    "# 열 인덱스를 나타내는 배열 c 생성\n",
    "c = np.array([0, 1, 1, 1], int)  # column 인덱스\n",
    "\n",
    "# fancy indexing을 사용하여 a[b, c]의 값을 추출\n",
    "result = a[b, c]\n",
    "print(\"a[b, c]의 결과 (fancy indexing):\")\n",
    "print(result)\n"
   ]
  },
  {
   "cell_type": "markdown",
   "metadata": {},
   "source": [
    "https://www.youtube.com/watch?v=N4KjOIs-2H8"
   ]
  }
 ],
 "metadata": {
  "kernelspec": {
   "display_name": "base",
   "language": "python",
   "name": "python3"
  },
  "language_info": {
   "codemirror_mode": {
    "name": "ipython",
    "version": 3
   },
   "file_extension": ".py",
   "mimetype": "text/x-python",
   "name": "python",
   "nbconvert_exporter": "python",
   "pygments_lexer": "ipython3",
   "version": "3.11.7"
  }
 },
 "nbformat": 4,
 "nbformat_minor": 2
}
