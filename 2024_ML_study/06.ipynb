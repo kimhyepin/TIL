{
 "cells": [
  {
   "cell_type": "markdown",
   "metadata": {},
   "source": [
    "** vector 가 여러개 생기면 matrix <br>\n",
    "\n",
    "### function\n",
    "\n",
    "#### 1. creation function \n",
    "arange : array의 범위를 지정하여, 값의 list를 생성하는 명령어 <br>\n",
    "ones, zero, empty : ~~ 로 채워지는 <br>\n",
    "identity : 단위행렬 (i 행렬) 을 생성함 <br>\n",
    "eye : 대각선이 1인 행렬, k값의 시작 index 변경이 가능 <br>\n",
    "diag : 대각 행렬의 값을 주출함\n",
    "\n",
    "#### 2. operation function\n",
    "sum : ndarray의 element들 간의 합을 구함, list의 sum 기능과 동일 <br>\n",
    "axis : 모든 operation function을 실행할 때, 기준이 되는 dimension 축 <br>\n",
    "concatenate 하는법\n",
    "* vstack : 수직병합\n",
    "* hstack : 수평병합 "
   ]
  },
  {
   "cell_type": "code",
   "execution_count": 1,
   "metadata": {},
   "outputs": [],
   "source": [
    "import numpy as np"
   ]
  },
  {
   "cell_type": "code",
   "execution_count": 2,
   "metadata": {},
   "outputs": [
    {
     "data": {
      "text/plain": [
       "array([ 0,  1,  2,  3,  4,  5,  6,  7,  8,  9, 10, 11, 12, 13, 14, 15, 16,\n",
       "       17, 18, 19, 20, 21, 22, 23, 24, 25, 26, 27, 28, 29])"
      ]
     },
     "execution_count": 2,
     "metadata": {},
     "output_type": "execute_result"
    }
   ],
   "source": [
    "np.arange(30)  # range: List의 range와 같은 효과, integer로 0부터 29까지 배열 추출"
   ]
  },
  {
   "cell_type": "code",
   "execution_count": 3,
   "metadata": {},
   "outputs": [
    {
     "data": {
      "text/plain": [
       "array([0. , 0.5, 1. , 1.5, 2. , 2.5, 3. , 3.5, 4. , 4.5])"
      ]
     },
     "execution_count": 3,
     "metadata": {},
     "output_type": "execute_result"
    }
   ],
   "source": [
    "np.arange(0, 5, 0.5)  # (시작, 끝, step) \n",
    "# floating point도 표시 가능함, list에서는 이거 지원 X"
   ]
  },
  {
   "cell_type": "code",
   "execution_count": 4,
   "metadata": {},
   "outputs": [
    {
     "data": {
      "text/plain": [
       "array([[ 0,  1,  2,  3,  4,  5],\n",
       "       [ 6,  7,  8,  9, 10, 11],\n",
       "       [12, 13, 14, 15, 16, 17],\n",
       "       [18, 19, 20, 21, 22, 23],\n",
       "       [24, 25, 26, 27, 28, 29]])"
      ]
     },
     "execution_count": 4,
     "metadata": {},
     "output_type": "execute_result"
    }
   ],
   "source": [
    "np.arange(30).reshape(5, 6)"
   ]
  },
  {
   "cell_type": "code",
   "execution_count": 7,
   "metadata": {},
   "outputs": [
    {
     "data": {
      "text/plain": [
       "array([[0, 0, 0],\n",
       "       [0, 0, 0]], dtype=int8)"
      ]
     },
     "execution_count": 7,
     "metadata": {},
     "output_type": "execute_result"
    }
   ],
   "source": [
    "np.zeros(shape=(2,3), dtype=np.int8)"
   ]
  },
  {
   "cell_type": "code",
   "execution_count": 9,
   "metadata": {},
   "outputs": [
    {
     "data": {
      "text/plain": [
       "array([[[1, 1, 1],\n",
       "        [1, 1, 1]],\n",
       "\n",
       "       [[1, 1, 1],\n",
       "        [1, 1, 1]],\n",
       "\n",
       "       [[1, 1, 1],\n",
       "        [1, 1, 1]],\n",
       "\n",
       "       [[1, 1, 1],\n",
       "        [1, 1, 1]],\n",
       "\n",
       "       [[1, 1, 1],\n",
       "        [1, 1, 1]]])"
      ]
     },
     "execution_count": 9,
     "metadata": {},
     "output_type": "execute_result"
    }
   ],
   "source": [
    "test_matrix = np.arange(30).reshape(5,2,3)\n",
    "np.ones_like (test_matrix)\n",
    "# 기존 shape 유지하되, 전부 1로 채워짐 "
   ]
  },
  {
   "cell_type": "code",
   "execution_count": 10,
   "metadata": {},
   "outputs": [
    {
     "data": {
      "text/plain": [
       "array([[1, 0, 0],\n",
       "       [0, 1, 0],\n",
       "       [0, 0, 1]], dtype=int8)"
      ]
     },
     "execution_count": 10,
     "metadata": {},
     "output_type": "execute_result"
    }
   ],
   "source": [
    "np.identity(n=3, dtype=np.int8) \n",
    "\n",
    "## 3 by 3 단위행렬 잘 생성되는거 확인가능"
   ]
  },
  {
   "cell_type": "code",
   "execution_count": 11,
   "metadata": {},
   "outputs": [
    {
     "data": {
      "text/plain": [
       "array([[1., 0., 0., 0., 0.],\n",
       "       [0., 1., 0., 0., 0.],\n",
       "       [0., 0., 1., 0., 0.],\n",
       "       [0., 0., 0., 1., 0.],\n",
       "       [0., 0., 0., 0., 1.]])"
      ]
     },
     "execution_count": 11,
     "metadata": {},
     "output_type": "execute_result"
    }
   ],
   "source": [
    "np.identity(5)"
   ]
  },
  {
   "cell_type": "code",
   "execution_count": 14,
   "metadata": {},
   "outputs": [
    {
     "data": {
      "text/plain": [
       "array([[1, 0, 0, 0, 0],\n",
       "       [0, 1, 0, 0, 0],\n",
       "       [0, 0, 1, 0, 0]], dtype=int8)"
      ]
     },
     "execution_count": 14,
     "metadata": {},
     "output_type": "execute_result"
    }
   ],
   "source": [
    "# 대각선이 1인 행렬 생성, k값의 시작 index 변경 가능\n",
    "np.eye(N=3, M=5, dtype=np.int8) \n",
    "# 3행 5열 \n"
   ]
  },
  {
   "cell_type": "code",
   "execution_count": 15,
   "metadata": {},
   "outputs": [
    {
     "data": {
      "text/plain": [
       "array([[1., 0., 0.],\n",
       "       [0., 1., 0.],\n",
       "       [0., 0., 1.]])"
      ]
     },
     "execution_count": 15,
     "metadata": {},
     "output_type": "execute_result"
    }
   ],
   "source": [
    "np.eye(3)\n",
    "# 3 by 3 으로 대각선이 1인 행렬 생성됨"
   ]
  },
  {
   "cell_type": "code",
   "execution_count": 16,
   "metadata": {},
   "outputs": [
    {
     "data": {
      "text/plain": [
       "array([[0., 0., 1., 0., 0.],\n",
       "       [0., 0., 0., 1., 0.],\n",
       "       [0., 0., 0., 0., 1.]])"
      ]
     },
     "execution_count": 16,
     "metadata": {},
     "output_type": "execute_result"
    }
   ],
   "source": [
    "np.eye(3,5,k=2) # k => start index "
   ]
  },
  {
   "cell_type": "code",
   "execution_count": 18,
   "metadata": {},
   "outputs": [
    {
     "data": {
      "text/plain": [
       "array([[0, 1, 2],\n",
       "       [3, 4, 5],\n",
       "       [6, 7, 8]])"
      ]
     },
     "execution_count": 18,
     "metadata": {},
     "output_type": "execute_result"
    }
   ],
   "source": [
    "matrix = np.arange(9).reshape(3, 3)\n",
    "matrix"
   ]
  },
  {
   "cell_type": "code",
   "execution_count": 19,
   "metadata": {},
   "outputs": [
    {
     "data": {
      "text/plain": [
       "array([0, 4, 8])"
      ]
     },
     "execution_count": 19,
     "metadata": {},
     "output_type": "execute_result"
    }
   ],
   "source": [
    "# 대각선의 값만 추출\n",
    "np.diag(matrix)"
   ]
  },
  {
   "cell_type": "code",
   "execution_count": 21,
   "metadata": {},
   "outputs": [
    {
     "data": {
      "text/plain": [
       "array([1, 5])"
      ]
     },
     "execution_count": 21,
     "metadata": {},
     "output_type": "execute_result"
    }
   ],
   "source": [
    "np.diag(matrix, k=1)\n",
    "# k는 역시 start index index가 1인 열 1행부터 대각선으로 쭉 뽑힘 "
   ]
  },
  {
   "cell_type": "code",
   "execution_count": 22,
   "metadata": {},
   "outputs": [
    {
     "data": {
      "text/plain": [
       "array([[0.76767563, 0.17156434, 0.4915916 , 0.45472365, 0.17144026],\n",
       "       [0.91065802, 0.78069583, 0.98984141, 0.39808943, 0.68306   ]])"
      ]
     },
     "execution_count": 22,
     "metadata": {},
     "output_type": "execute_result"
    }
   ],
   "source": [
    "# 균등분포에서 샘플링하여 배열 생성\n",
    "# np.random.uniform(low, high, size)\n",
    "# low: 최소값, high: 최대값, size: 샘플링할 수 (여기선 10개를 샘플링)\n",
    "# 0과 1 사이에서 균등하게 분포된 10개의 샘플을 뽑고, 이를 2x5 행렬로 reshape\n",
    "np.random.uniform(0, 1, 10).reshape(2, 5)\n"
   ]
  },
  {
   "cell_type": "code",
   "execution_count": 23,
   "metadata": {},
   "outputs": [
    {
     "data": {
      "text/plain": [
       "array([[ 0.78882657, -0.33829973,  1.58724822, -0.17467004,  0.70453401],\n",
       "       [ 0.7206988 ,  0.64380638, -1.13065795,  0.87143186,  0.24596654]])"
      ]
     },
     "execution_count": 23,
     "metadata": {},
     "output_type": "execute_result"
    }
   ],
   "source": [
    "# 정규분포에서 샘플링하여 배열 생성\n",
    "# np.random.normal(loc, scale, size)\n",
    "# loc: 평균 (여기선 0), scale: 표준편차 (여기선 1), size: 샘플링할 수 (여기선 10개)\n",
    "# 평균이 0이고 표준편차가 1인 정규분포에서 10개의 샘플을 뽑고, 이를 2x5 행렬로 reshape\n",
    "np.random.normal(0, 1, 10).reshape(2, 5)"
   ]
  },
  {
   "cell_type": "code",
   "execution_count": 24,
   "metadata": {},
   "outputs": [
    {
     "name": "stdout",
     "output_type": "stream",
     "text": [
      "[[ 1  2  3  4]\n",
      " [ 5  6  7  8]\n",
      " [ 9 10 11 12]]\n",
      "[10 26 42]\n",
      "[15 18 21 24]\n"
     ]
    }
   ],
   "source": [
    "# 1부터 12까지의 숫자를 포함하는 배열을 생성하고, 이를 (3,4) 형태로 reshape\n",
    "test_array = np.arange(1, 13).reshape(3, 4)\n",
    "print (test_array) \n",
    "\n",
    "# axis=1로 sum을 계산 -> 각 row의 합을 계산 (가로로 더하기)\n",
    "print (test_array.sum(axis=1)) \n",
    "\n",
    "# axis=0으로 sum을 계산 -> 각 column의 합을 계산 (세로로 더하기)\n",
    "print (test_array.sum(axis=0)) \n"
   ]
  },
  {
   "cell_type": "markdown",
   "metadata": {},
   "source": [
    "3차원 배열일때 ..."
   ]
  },
  {
   "cell_type": "code",
   "execution_count": 25,
   "metadata": {},
   "outputs": [
    {
     "name": "stdout",
     "output_type": "stream",
     "text": [
      "[[[ 1  2  3  4]\n",
      "  [ 5  6  7  8]\n",
      "  [ 9 10 11 12]]\n",
      "\n",
      " [[ 1  2  3  4]\n",
      "  [ 5  6  7  8]\n",
      "  [ 9 10 11 12]]\n",
      "\n",
      " [[ 1  2  3  4]\n",
      "  [ 5  6  7  8]\n",
      "  [ 9 10 11 12]]]\n",
      "[[10 26 42]\n",
      " [10 26 42]\n",
      " [10 26 42]]\n",
      "[[15 18 21 24]\n",
      " [15 18 21 24]\n",
      " [15 18 21 24]]\n",
      "[[ 3  6  9 12]\n",
      " [15 18 21 24]\n",
      " [27 30 33 36]]\n"
     ]
    }
   ],
   "source": [
    "# 1부터 12까지의 숫자를 포함하는 배열을 생성하고, 이를 (3, 4) 형태로 reshape\n",
    "# 그런 후, 동일한 2D 배열을 3개 쌓아서 3차원 배열을 생성\n",
    "third_order_tensor = np.array([np.arange(1, 13).reshape(3, 4)] * 3)\n",
    "print (third_order_tensor) \n",
    "\n",
    "# axis=2로 sum을 계산 -> 각 row의 element들끼리 더한 값 (세로 방향)\n",
    "print (third_order_tensor.sum(axis=2)) \n",
    "\n",
    "# axis=1로 sum을 계산 -> 각 matrix의 각 열(column)을 더한 값 (열 방향)\n",
    "print (third_order_tensor.sum(axis=1)) \n",
    "\n",
    "# axis=0으로 sum을 계산 -> 동일한 위치의 element들끼리 더한 값 (층 방향)\n",
    "print (third_order_tensor.sum(axis=0)) \n"
   ]
  },
  {
   "cell_type": "code",
   "execution_count": 27,
   "metadata": {},
   "outputs": [
    {
     "name": "stdout",
     "output_type": "stream",
     "text": [
      "[[ 1  2  3  4]\n",
      " [ 5  6  7  8]\n",
      " [ 9 10 11 12]]\n",
      "6.5\n",
      "[5. 6. 7. 8.]\n",
      "3.452052529534663\n",
      "[3.26598632 3.26598632 3.26598632 3.26598632]\n"
     ]
    }
   ],
   "source": [
    "# 1부터 12까지의 숫자를 포함하는 배열을 생성하고, 이를 (3,4) 형태로 reshape\n",
    "test_array = np.arange(1, 13).reshape(3, 4)\n",
    "print (test_array) \n",
    "# 전체 배열의 평균을 계산\n",
    "print (test_array.mean())\n",
    "\n",
    "# axis=0으로 평균 계산 -> 각 열(column)의 평균을 계산\n",
    "print(test_array.mean(axis=0))\n",
    "\n",
    "# 전체 배열의 표준 편차를 계산\n",
    "print (test_array.std())\n",
    "\n",
    "# axis=0으로 표준 편차 계산 -> 각 열(column)의 표준 편차를 계산\n",
    "print (test_array.std(axis=0)) "
   ]
  },
  {
   "cell_type": "code",
   "execution_count": 28,
   "metadata": {},
   "outputs": [
    {
     "data": {
      "text/plain": [
       "array([[1, 2, 3],\n",
       "       [2, 3, 4]])"
      ]
     },
     "execution_count": 28,
     "metadata": {},
     "output_type": "execute_result"
    }
   ],
   "source": [
    "a = np.array ([1,2,3])\n",
    "b = np.array ([2,3,4])\n",
    "np.vstack ((a,b)) # 수직 병합 "
   ]
  },
  {
   "cell_type": "code",
   "execution_count": 31,
   "metadata": {},
   "outputs": [
    {
     "data": {
      "text/plain": [
       "array([[1, 2],\n",
       "       [2, 3],\n",
       "       [3, 4]])"
      ]
     },
     "execution_count": 31,
     "metadata": {},
     "output_type": "execute_result"
    }
   ],
   "source": [
    "a = np.array ([[1],[2],[3]])\n",
    "b = np.array ([[2],[3],[4]])\n",
    "np.hstack ((a,b)) # 수평병합 \n",
    "\n",
    "# 나중에 재사용하려면 할당 필수 !\n",
    "# 원본이 바뀌는게 아님 "
   ]
  },
  {
   "cell_type": "code",
   "execution_count": 32,
   "metadata": {},
   "outputs": [
    {
     "name": "stdout",
     "output_type": "stream",
     "text": [
      "[[1 2 3]\n",
      " [2 3 4]]\n",
      "[[1 2 5]\n",
      " [3 4 6]]\n"
     ]
    }
   ],
   "source": [
    "# 두 배열을 생성\n",
    "a = np.array([[1, 2, 3]])\n",
    "b = np.array([[2, 3, 4]])\n",
    "\n",
    "# axis=0으로 concatenate -> 세로로 배열 연결 (행 추가)\n",
    "matrix = np.concatenate((a, b), axis=0)\n",
    "print (matrix)\n",
    "\n",
    "# 새로운 두 배열을 생성\n",
    "a = np.array([[1, 2], [3, 4]])\n",
    "b = np.array([[5, 6]])\n",
    "\n",
    "# axis=1로 concatenate -> 가로로 배열 연결 (열 추가)\n",
    "# 여기서 b.T는 배열 b의transpose로, b의 모양을 (2,1)에서 (1,2)로 변환하여 가로로 연결할 수 있게 한다.\n",
    "matrix02 = np.concatenate((a, b.T), axis=1)\n",
    "print (matrix02)\n"
   ]
  }
 ],
 "metadata": {
  "kernelspec": {
   "display_name": "base",
   "language": "python",
   "name": "python3"
  },
  "language_info": {
   "codemirror_mode": {
    "name": "ipython",
    "version": 3
   },
   "file_extension": ".py",
   "mimetype": "text/x-python",
   "name": "python",
   "nbconvert_exporter": "python",
   "pygments_lexer": "ipython3",
   "version": "3.11.7"
  }
 },
 "nbformat": 4,
 "nbformat_minor": 2
}
